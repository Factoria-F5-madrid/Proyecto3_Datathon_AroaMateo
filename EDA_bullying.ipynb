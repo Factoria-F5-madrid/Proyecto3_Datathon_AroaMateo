{
 "cells": [
  {
   "cell_type": "markdown",
   "metadata": {},
   "source": [
    "EDA Bullying in the world\n",
    "\n",
    "1. Configuración inicial."
   ]
  },
  {
   "cell_type": "code",
   "execution_count": 5,
   "metadata": {},
   "outputs": [],
   "source": [
    "# Importar librerías necesarias\n",
    "import pandas as pd\n",
    "import matplotlib.pyplot as plt\n",
    "import seaborn as sns"
   ]
  },
  {
   "cell_type": "code",
   "execution_count": null,
   "metadata": {},
   "outputs": [],
   "source": [
    "# Configurar estilo de visualizaciones\n",
    "sns.set_style(\"whitegrid\")\n",
    "plt.rcParams['figure.figsize'] = (6, 4)\n",
    "%matplotlib inline"
   ]
  },
  {
   "cell_type": "code",
   "execution_count": null,
   "metadata": {},
   "outputs": [],
   "source": [
    "# Cargar el dataset\n",
    "df = pd.read_csv('Bullying_2018.csv')"
   ]
  },
  {
   "cell_type": "code",
   "execution_count": null,
   "metadata": {},
   "outputs": [],
   "source": [
    "# Visualizamos la tabla\n",
    "df.head()"
   ]
  },
  {
   "cell_type": "code",
   "execution_count": null,
   "metadata": {},
   "outputs": [],
   "source": [
    "# Ver el resumen de la tabla, núm filas, núm column...\n",
    "df.info()"
   ]
  },
  {
   "cell_type": "code",
   "execution_count": null,
   "metadata": {},
   "outputs": [],
   "source": [
    "# Información sobre los datos, nulos, no nulos...\n",
    "df.describe()"
   ]
  },
  {
   "cell_type": "code",
   "execution_count": null,
   "metadata": {},
   "outputs": [],
   "source": [
    "# Mapeamos los nombres antiguos a los nuevos\n",
    "nuevos_nombres = {\n",
    "    'bullying_vict_7_days': 'fue_acosado',\n",
    "    'loneliness_12m': 'sentimiento_soledad',\n",
    "    'physical_fighting': 'peleas_fisicas'\n",
    "}\n",
    "\n",
    "# Usamos el método rename() para aplicar los cambios\n",
    "df = df.rename(columns=nuevos_nombres)\n",
    "\n",
    "# Verificamos que los nombres han cambiado\n",
    "print(\"Nombres de columnas después de renombrar:\", df.columns)"
   ]
  },
  {
   "cell_type": "code",
   "execution_count": null,
   "metadata": {},
   "outputs": [],
   "source": [
    "# Convertimos la columna 'fue_acosado' de texto a números (1=Sí, 0=No)\n",
    "# Primero, veamos los valores únicos para saber qué convertir\n",
    "print(\"Valores originales de la columna 'fue_acosado':\", df['fue_acosado'].unique())\n",
    "\n",
    "# Luego, usamos .replace() para hacer la transformación\n",
    "df['fue_acosado'] = df['fue_acosado'].replace({'Yes': 1, 'No': 0})\n",
    "\n",
    "# Hacemos lo mismo con 'sentimiento_soledad'\n",
    "df['sentimiento_soledad'] = df['sentimiento_soledad'].replace({'Yes': 1, 'No': 0})"
   ]
  },
  {
   "cell_type": "code",
   "execution_count": null,
   "metadata": {},
   "outputs": [],
   "source": [
    "# Creamos un gráfico de barras para visualizar la distribución de hombres y mujeres\n",
    "plt.figure(figsize=(7, 5))\n",
    "sns.countplot(x='sexo', data=df)\n",
    "plt.title('Distribución de Estudiantes por Sexo', fontsize=15)\n",
    "plt.xlabel('Sexo', fontsize=12)\n",
    "plt.ylabel('Número de Estudiantes', fontsize=12)\n",
    "plt.show()"
   ]
  },
  {
   "cell_type": "code",
   "execution_count": null,
   "metadata": {},
   "outputs": [],
   "source": [
    "# Histograma para ver la distribución de la edad\n",
    "plt.figure(figsize=(8, 6))\n",
    "sns.histplot(df['age'], bins=10, kde=True)\n",
    "plt.title('Distribución de la Edad de los Estudiantes', fontsize=15)\n",
    "plt.xlabel('Edad', fontsize=12)\n",
    "plt.ylabel('Frecuencia', fontsize=12)\n",
    "plt.show()\n",
    "\n",
    "# Boxplot para identificar valores atípicos\n",
    "plt.figure(figsize=(8, 6))\n",
    "sns.boxplot(x='age', data=df)\n",
    "plt.title('Boxplot de la Edad de los Estudiantes', fontsize=15)\n",
    "plt.xlabel('Edad', fontsize=12)\n",
    "plt.show()"
   ]
  },
  {
   "cell_type": "code",
   "execution_count": null,
   "metadata": {},
   "outputs": [],
   "source": [
    "# Gráfico de barras que compara 'fue_acosado' por 'sexo'\n",
    "plt.figure(figsize=(8, 6))\n",
    "sns.countplot(x='fue_acosado', hue='sexo', data=df)\n",
    "plt.title('Relación entre Acoso Escolar y Género', fontsize=15)\n",
    "plt.xlabel('¿Fue Acosado?', fontsize=12)\n",
    "plt.ylabel('Número de Estudiantes', fontsize=12)\n",
    "plt.legend(title='Sexo')\n",
    "plt.show()"
   ]
  },
  {
   "cell_type": "code",
   "execution_count": null,
   "metadata": {},
   "outputs": [],
   "source": [
    "# Creamos una tabla de contingencia para el mapa de calor\n",
    "contingency_table = pd.crosstab(df['fue_acosado'], df['sentimiento_soledad'])\n",
    "\n",
    "# Creamos el mapa de calor\n",
    "plt.figure(figsize=(8, 6))\n",
    "sns.heatmap(contingency_table, annot=True, fmt='d', cmap='coolwarm')\n",
    "plt.title('Relación entre Acoso y Sentimiento de Soledad', fontsize=15)\n",
    "plt.xlabel('Sentimiento de Soledad', fontsize=12)\n",
    "plt.ylabel('¿Fue Acosado?', fontsize=12)\n",
    "plt.show()"
   ]
  },
  {
   "cell_type": "markdown",
   "metadata": {},
   "source": [
    "### **3. Conclusiones del Análisis Exploratorio de Datos: Acoso Escolar en 2018**\n",
    "\n",
    "Este análisis se realizó sobre un conjunto de datos de 56,981 estudiantes para comprender la prevalencia y los factores asociados al acoso escolar en 2018.\n",
    "\n",
    "#### **Hallazgos Principales**\n",
    "\n",
    "1.  **El acoso escolar es un problema generalizado:** Un porcentaje significativo de la población estudiantil en la muestra reportó haber sido víctima de acoso en los 7 días previos a la encuesta. Esto confirma la relevancia del problema a nivel de toda la comunidad escolar.\n",
    "\n",
    "2.  **Existe una diferencia por género:** Los datos visualizados revelan que **los estudiantes masculinos son más propensos a reportar ser víctimas de acoso escolar** en comparación con las estudiantes femeninas. Este hallazgo sugiere que las estrategias de prevención podrían beneficiarse de un enfoque adaptado a las dinámicas de género.\n",
    "\n",
    "3.  **Vínculo directo con la salud emocional:** El análisis de correlación demuestra una **fuerte y clara relación entre ser víctima de acoso y experimentar sentimientos de soledad**. Los estudiantes que se sintieron solos en los últimos 12 meses también tienen una alta probabilidad de haber sido acosados recientemente. Esto subraya que el acoso no es solo un problema de seguridad, sino que tiene un impacto directo y significativo en el bienestar mental de los estudiantes.\n",
    "\n",
    "#### **Resumen para la Dirección Ejecutiva**\n",
    "\n",
    "En resumen, los datos no solo confirman la existencia del acoso escolar, sino que también identifican a los estudiantes masculinos como un grupo de mayor riesgo y establecen un vínculo crítico entre el acoso y los sentimientos de soledad. Estas conclusiones son fundamentales para guiar futuras iniciativas de intervención, permitiendo a la organización desarrollar programas de prevención más específicos y efectivos que aborden tanto la seguridad como la salud mental de los estudiantes más vulnerables."
   ]
  }
 ],
 "metadata": {
  "kernelspec": {
   "display_name": "Python 3",
   "language": "python",
   "name": "python3"
  },
  "language_info": {
   "codemirror_mode": {
    "name": "ipython",
    "version": 3
   },
   "file_extension": ".py",
   "mimetype": "text/x-python",
   "name": "python",
   "nbconvert_exporter": "python",
   "pygments_lexer": "ipython3",
   "version": "3.9.6"
  }
 },
 "nbformat": 4,
 "nbformat_minor": 4
}
